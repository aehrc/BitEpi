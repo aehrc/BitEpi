{
 "cells": [
  {
   "cell_type": "code",
   "execution_count": null,
   "metadata": {},
   "outputs": [],
   "source": [
    "import sys\n",
    "import time\n",
    "import numpy as np\n",
    "import pandas as pd\n",
    "# not compatible with pandas 1.1.0\n",
    "# pip3 install --user -U pandas==1.0.5\n",
    "# see https://github.com/limix/pandas-plink/issues/18\n",
    "from pandas_plink import read_plink"
   ]
  },
  {
   "cell_type": "code",
   "execution_count": null,
   "metadata": {},
   "outputs": [],
   "source": [
    "# Set the random seed\n",
    "seedMax = 2**32 - 1\n",
    "seed = int(time.time()*10000000) % seedMax\n",
    "np.random.seed(seed)"
   ]
  },
  {
   "cell_type": "code",
   "execution_count": null,
   "metadata": {},
   "outputs": [],
   "source": [
    "# Return: A genotype datafream generated from plink bfile (BDF: Bfile DataFrame)\n",
    "def BDF(prefix):\n",
    "    (bim, fam, bed) = read_plink(prefix, verbose=True)\n",
    "    bdf = pd.DataFrame(bed.compute().astype('int8')).join(bim[['snp']])\\\n",
    "    .set_index('snp').append(fam.trait.astype('int8')).transpose().astype('category')\n",
    "    bdf['cnt']=1\n",
    "    return bdf"
   ]
  },
  {
   "cell_type": "code",
   "execution_count": null,
   "metadata": {},
   "outputs": [],
   "source": [
    "# Return the Contingency Table (CT) with sum (s) and row weight (w) given a number of SNPs and Bfile Data Frame\n",
    "def CT(bdf, SNPs, pheno = 'trait'):\n",
    "    ct = bdf.groupby([pheno]+SNPs).count()[['cnt']]\n",
    "    ctrl = ct.loc[ct.index.get_level_values(pheno) == 1].droplevel(level=0).rename(columns={\"cnt\": \"ctrl\"})\n",
    "    case = ct.loc[ct.index.get_level_values(pheno) == 2].droplevel(level=0).rename(columns={\"cnt\": \"case\"})\n",
    "    ctx = ctrl.join(case)\n",
    "    ctx['s'] = ctx.sum(axis=1)\n",
    "    total = ctx['s'].sum()\n",
    "    ctx['w'] = ctx['s']/total\n",
    "    return ctx.fillna(0)"
   ]
  },
  {
   "cell_type": "code",
   "execution_count": null,
   "metadata": {},
   "outputs": [],
   "source": [
    "# Return Weighted Average Purity (WAP) given a contingency table\n",
    "def WAP(ct):\n",
    "    return ((((ct.ctrl/ct.s)**2) + ((ct.case/ct.s)**2)) * ct.w).sum()"
   ]
  },
  {
   "cell_type": "code",
   "execution_count": null,
   "metadata": {},
   "outputs": [],
   "source": [
    "# Return Mximum Lower Order WAP (MLOWAP). Lower Order means to exclude 1 SNP from combination\n",
    "def MLOWAP(ct, SNPs):\n",
    "    lowaps = list()\n",
    "    for i in range(0, len(SNPs)):\n",
    "        lo = SNPs.copy()\n",
    "        del lo[i]\n",
    "        ctx = ct.groupby(lo).sum()\n",
    "        lowaps.append(WAP(ctx))\n",
    "    return max(lowaps)"
   ]
  },
  {
   "cell_type": "code",
   "execution_count": null,
   "metadata": {},
   "outputs": [],
   "source": [
    "#return Alpha and Beta (BitEpi) given contingency table and list of SNPs\n",
    "def AB(ct, SNPs):\n",
    "    wap = WAP(ct)\n",
    "    mlowap = MLOWAP(ct,SNPs)\n",
    "    return {'beta':wap, 'alpha':(wap - mlowap)}"
   ]
  },
  {
   "cell_type": "code",
   "execution_count": null,
   "metadata": {},
   "outputs": [],
   "source": [
    "# Rather applying random phenotype with uniform distribution \"np.random.choice([1,2], bdf.shape[0])\"\n",
    "# we can use a normal distribution for probability of being case\n",
    "# performance wise it make it faster\n",
    "# But \"what standard deviation\" reflect original unifrom distribution is a question I cannot answer it for now.\n",
    "rndCT = False # if true it will use this function to randomize phenotype\n",
    "sd=0.03\n",
    "def RP(ct):\n",
    "    # pc: probability of being case\n",
    "    pc = np.random.normal(0.5, sd, ct.shape[0])\n",
    "    pc[pc > 1] = 1\n",
    "    pc[pc < 0] = 0\n",
    "    ct['pc'] = pc\n",
    "    ct.case = (ct.s * ct.pc).astype('int32')\n",
    "    ct.ctrl = (ct.s - ct.case).astype('int32')\n",
    "    ct.drop(['pc'], axis=1, inplace=True)"
   ]
  },
  {
   "cell_type": "code",
   "execution_count": null,
   "metadata": {},
   "outputs": [],
   "source": [
    "# Compute Alpha and Beta statistics as well as corresponding pvalue for a given interactive SNPs\n",
    "def Pvalue(bdf, SNPs, numRepeat=100):\n",
    "    ct = CT(bdf, SNPs)\n",
    "    ab = AB(ct, SNPs)\n",
    "    # rab for AB with random phenotype\n",
    "    rab = list()\n",
    "    for i in range(numRepeat):\n",
    "\n",
    "        if rndCT:\n",
    "            RP(ct)\n",
    "        else:\n",
    "            bdf['RandomPheno'] = np.random.choice([1,2], bdf.shape[0])\n",
    "            ct = CT(bdf, SNPs, pheno='RandomPheno')\n",
    "        rab.append(AB(ct, SNPs))\n",
    "\n",
    "    ac = len([r for r in rab if r['alpha'] > ab['alpha']])\n",
    "    bc = len([r for r in rab if r['beta'] > ab['beta']])\n",
    "\n",
    "    pv = {'beta':bc/numRepeat, 'alpha':ac/numRepeat}\n",
    "    return (ab, pv)"
   ]
  },
  {
   "cell_type": "code",
   "execution_count": null,
   "metadata": {},
   "outputs": [],
   "source": [
    "# Compute pvalue for list of interaction (only consider top numInteraction in the file)\n",
    "def EpiPvalue(bfilePrefix, epiFile, numInteraction, numRepeat):\n",
    "    \n",
    "    # Read Plink bfile into pandas dataframe\n",
    "    bdf = BDF(bfilePrefix)\n",
    "    \n",
    "    # Read BitEpi output into pandas dataframe\n",
    "    epiInt = pd.read_csv(epiFile)\n",
    "    \n",
    "    # compute pvalue for the top interactions\n",
    "    result = list()\n",
    "    for i in range(numInteraction):\n",
    "        row = epiInt.iloc[i]\n",
    "        firstCol = row[0]\n",
    "        SNPs = list(row[1:].values)\n",
    "        (stat,pvalue) = Pvalue(bdf, SNPs, numRepeat)\n",
    "        result.append({'firstCol':firstCol, 'SNPs':SNPs, 'stat':stat, 'pvalue':pvalue})\n",
    "        \n",
    "    return result"
   ]
  },
  {
   "cell_type": "code",
   "execution_count": null,
   "metadata": {},
   "outputs": [],
   "source": [
    "# Compute pvalue of random combination of SNPs\n",
    "def RndPvalue(bfilePrefix, numSNPs, numInteraction, numRepeat):\n",
    "    \n",
    "    # Read Plink bfile into pandas dataframe\n",
    "    bdf = BDF(bfilePrefix)\n",
    "    varId = bdf.columns.values[0:-2]\n",
    "\n",
    "    # compute pvalue for the top interactions\n",
    "    result = list()\n",
    "    for i in range(numInteraction):\n",
    "        firstCol = 0\n",
    "        np.random.shuffle(varId)\n",
    "        SNPs = list(varId[0:numSNPs])\n",
    "        (stat,pvalue) = Pvalue(bdf, SNPs, numRepeat)\n",
    "        result.append({'firstCol':firstCol, 'SNPs':SNPs, 'stat':stat, 'pvalue':pvalue})\n",
    "        \n",
    "    return result"
   ]
  },
  {
   "cell_type": "code",
   "execution_count": null,
   "metadata": {},
   "outputs": [],
   "source": [
    "if __name__ == '__main__':\n",
    "    \n",
    "    argc = len(sys.argv)\n",
    "    if(argc < 5):\n",
    "        print(\"Enter a command and path to the inptu file\")\n",
    "        exit()\n",
    "\n",
    "    command = sys.argv[1]\n",
    "    numInteraction = int(sys.argv[2])\n",
    "    numRepeat = int(sys.argv[3])\n",
    "    if(command == \"rnd\"):\n",
    "        order = int(sys.argv[4])\n",
    "        pvals = RndPvalue(prefix, order, numInteraction, numRepeat=100)\n",
    "    if(command == \"epi\"):\n",
    "        epiFile = sys.argv[4]\n",
    "        pvals = EpiPvalue(prefix, epiFile, numInteraction, numRepeat=100)\n",
    "    \n",
    "    print(pvals)"
   ]
  }
 ],
 "metadata": {
  "kernelspec": {
   "display_name": "Python 3",
   "language": "python",
   "name": "python3"
  },
  "language_info": {
   "codemirror_mode": {
    "name": "ipython",
    "version": 3
   },
   "file_extension": ".py",
   "mimetype": "text/x-python",
   "name": "python",
   "nbconvert_exporter": "python",
   "pygments_lexer": "ipython3",
   "version": "3.6.9"
  }
 },
 "nbformat": 4,
 "nbformat_minor": 4
}

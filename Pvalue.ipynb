{
 "cells": [
  {
   "cell_type": "code",
   "execution_count": 1,
   "metadata": {},
   "outputs": [],
   "source": [
    "import time\n",
    "import numpy as np\n",
    "import pandas as pd\n",
    "# not compatible with pandas 1.1.0\n",
    "# pip3 install --user -U pandas==1.0.5\n",
    "# see https://github.com/limix/pandas-plink/issues/18\n",
    "from pandas_plink import read_plink\n",
    "\n",
    "from pprint import pprint\n",
    "from IPython.display import display, HTML"
   ]
  },
  {
   "cell_type": "code",
   "execution_count": 2,
   "metadata": {},
   "outputs": [],
   "source": [
    "prefix = '/home/arash/temp/BitEpi/sampleData/bfile'\n",
    "rndCT = False\n",
    "sd=0.03\n",
    "numRepeat = 10\n",
    "numInteraction = 5\n",
    "# Set the random seed\n",
    "seedMax = 2**32 - 1\n",
    "seed = int(time.time()*10000000) % seedMax\n",
    "np.random.seed(seed)"
   ]
  },
  {
   "cell_type": "code",
   "execution_count": 3,
   "metadata": {},
   "outputs": [],
   "source": [
    "# Return a genotype datafream generated from plink bfile (BDF: Bfile DataFrame)\n",
    "def BDF(prefix):\n",
    "    (bim, fam, bed) = read_plink(prefix, verbose=True)\n",
    "    bdf = pd.DataFrame(bed.compute().astype('int8')).join(bim[['snp']])\\\n",
    "    .set_index('snp').append(fam.trait.astype('int8')).transpose().astype('category')\n",
    "    bdf['cnt']=1\n",
    "    return bdf"
   ]
  },
  {
   "cell_type": "code",
   "execution_count": 4,
   "metadata": {},
   "outputs": [],
   "source": [
    "# Return the Contingency Table (CT) with sum (s) and row weight (w) given a number of SNPs and Bfile Data Frame\n",
    "def CT(bdf, SNPs, pheno = 'trait'):\n",
    "    ct = bdf.groupby([pheno]+SNPs).count()[['cnt']]\n",
    "    ctrl = ct.loc[ct.index.get_level_values(pheno) == 1].droplevel(level=0).rename(columns={\"cnt\": \"ctrl\"})\n",
    "    case = ct.loc[ct.index.get_level_values(pheno) == 2].droplevel(level=0).rename(columns={\"cnt\": \"case\"})\n",
    "    ctx = ctrl.join(case)\n",
    "    ctx['s'] = ctx.sum(axis=1)\n",
    "    total = ctx['s'].sum()\n",
    "    ctx['w'] = ctx['s']/total\n",
    "    return ctx.fillna(0)"
   ]
  },
  {
   "cell_type": "code",
   "execution_count": 5,
   "metadata": {},
   "outputs": [],
   "source": [
    "# Return Weighted Average Purity (WAP) given a contingency table\n",
    "def WAP(ct):\n",
    "#     ct['x']=(ct.ctrl/ct.s)**2\n",
    "#     ct['y']=(ct.case/ct.s)**2\n",
    "#     ct['z']=ct.x + ct.y\n",
    "#     ct['zz']=ct.z * ct.w\n",
    "#     print(\"=========================\")\n",
    "#     print(ct)\n",
    "#     display(HTML(ct.to_html()))\n",
    "#     print(ct.zz.sum())\n",
    "#     print(\"=========================\")\n",
    "    # *** This does not handle division by 0\n",
    "    #print(ct)\n",
    "    return ((((ct.ctrl/ct.s)**2) + ((ct.case/ct.s)**2)) * ct.w).sum()"
   ]
  },
  {
   "cell_type": "code",
   "execution_count": 6,
   "metadata": {},
   "outputs": [],
   "source": [
    "# Return Mximum Lower Order WAP (MLOWAP). Lower Order means to exclude 1 SNP from combination\n",
    "def MLOWAP(ct, SNPs):\n",
    "    lowaps = list()\n",
    "    for i in range(0, len(SNPs)):\n",
    "        lo = SNPs.copy()\n",
    "        del lo[i]\n",
    "        #print(lo)\n",
    "        ctx = ct.groupby(lo).sum()\n",
    "        lowaps.append(WAP(ctx))\n",
    "    return max(lowaps)"
   ]
  },
  {
   "cell_type": "code",
   "execution_count": 7,
   "metadata": {},
   "outputs": [],
   "source": [
    "#return Alpha and Beta (BitEpi) given contingency table\n",
    "def AB(ct, SNPs):\n",
    "    #display(HTML(ct.to_html()))\n",
    "    wap = WAP(ct)\n",
    "    mlowap = MLOWAP(ct,SNPs)\n",
    "    return {'beta':wap, 'alpha':(wap - mlowap)}"
   ]
  },
  {
   "cell_type": "code",
   "execution_count": 8,
   "metadata": {},
   "outputs": [],
   "source": [
    "def RP(ct):\n",
    "    # pc: probability of being case\n",
    "    # pc = np.random.uniform(0, 1, ct.shape[0])\n",
    "    pc = np.random.normal(0.5, sd, ct.shape[0])\n",
    "    pc[pc > 1] = 1\n",
    "    pc[pc < 0] = 0\n",
    "    ct['pc'] = pc\n",
    "    ct.case = (ct.s * ct.pc).astype('int32')\n",
    "    ct.ctrl = (ct.s - ct.case).astype('int32')\n",
    "    ct.drop(['pc'], axis=1, inplace=True)"
   ]
  },
  {
   "cell_type": "code",
   "execution_count": 9,
   "metadata": {},
   "outputs": [],
   "source": [
    "def Pvalue(bdf, SNPs, numRepeat=100):\n",
    "    ct = CT(bdf, SNPs)\n",
    "    ab = AB(ct, SNPs)\n",
    "    # rab for AB with random phenotype\n",
    "    rab = list()\n",
    "    for i in range(numRepeat):\n",
    "\n",
    "        if rndCT:\n",
    "            RP(ct)\n",
    "        else:\n",
    "            bdf['RandomPheno'] = np.random.choice([1,2], bdf.shape[0])\n",
    "            ct = CT(bdf, SNPs, pheno='RandomPheno')\n",
    "        rab.append(AB(ct, SNPs))\n",
    "\n",
    "    ac = len([r for r in rab if r['alpha'] > ab['alpha']])\n",
    "    bc = len([r for r in rab if r['beta'] > ab['beta']])\n",
    "\n",
    "    pv = {'beta':bc/numRepeat, 'alpha':ac/numRepeat}\n",
    "    return (ab, pv)"
   ]
  },
  {
   "cell_type": "code",
   "execution_count": 10,
   "metadata": {},
   "outputs": [
    {
     "name": "stderr",
     "output_type": "stream",
     "text": [
      "Mapping files: 100%|██████████| 3/3 [00:00<00:00, 140.24it/s]\n"
     ]
    }
   ],
   "source": [
    "bdf = BDF(prefix)"
   ]
  },
  {
   "cell_type": "code",
   "execution_count": 11,
   "metadata": {},
   "outputs": [
    {
     "name": "stdout",
     "output_type": "stream",
     "text": [
      "Statistics: {'beta': 0.504218620099264, 'alpha': 0.0035141920889357747}\n",
      "Pvalues: {'beta': 0.0, 'alpha': 0.0}\n"
     ]
    }
   ],
   "source": [
    "(stat,pvalue) = Pvalue(bdf, ['M0P1','M0P2'], numRepeat)\n",
    "print('Statistics:', stat)\n",
    "print('Pvalues:', pvalue)"
   ]
  },
  {
   "cell_type": "code",
   "execution_count": 12,
   "metadata": {},
   "outputs": [
    {
     "name": "stdout",
     "output_type": "stream",
     "text": [
      "Statistics: {'beta': 0.501757527587287, 'alpha': 0.001407223355438414}\n",
      "Pvalues: {'beta': 0.5, 'alpha': 0.4}\n"
     ]
    }
   ],
   "source": [
    "(stat,pvalue) = Pvalue(bdf, ['N34','N86'], numRepeat)\n",
    "print('Statistics:', stat)\n",
    "print('Pvalues:', pvalue)"
   ]
  },
  {
   "cell_type": "code",
   "execution_count": 13,
   "metadata": {},
   "outputs": [],
   "source": [
    "#BitEpi -i sampleData/bfile -bfile -o sampleData/out.bfile -sort -t 2 -a4 100"
   ]
  },
  {
   "cell_type": "code",
   "execution_count": null,
   "metadata": {},
   "outputs": [],
   "source": []
  },
  {
   "cell_type": "code",
   "execution_count": 14,
   "metadata": {},
   "outputs": [],
   "source": [
    "# Compute pvalue for interactions listed in a file\n",
    "def EpiPvalue(bfilePrefix, epiFile, numInteraction, numRepeat):\n",
    "    \n",
    "    # Read Plink bfile into pandas dataframe\n",
    "    bdf = BDF(bfilePrefix)\n",
    "    \n",
    "    # Read BitEpi output into pandas dataframe\n",
    "    epiInt = pd.read_csv(epiFile)\n",
    "    \n",
    "    # compute pvalue for the top interactions\n",
    "    result = list()\n",
    "    for i in range(numInteraction):\n",
    "        row = epiInt.iloc[i]\n",
    "        firstCol = row[0]\n",
    "        SNPs = list(row[1:].values)\n",
    "        print(firstCol)\n",
    "        print(SNPs)\n",
    "        (stat,pvalue) = Pvalue(bdf, SNPs, numRepeat)\n",
    "        print('Statistics:', stat)\n",
    "        print('Pvalues:', pvalue)\n",
    "        print(\"===================================\")\n",
    "        result.append({'firstCol':firstCol, 'SNPs':SNPs, 'stat':stat, 'pvalue':pvalue})\n",
    "        \n",
    "    return result"
   ]
  },
  {
   "cell_type": "code",
   "execution_count": 15,
   "metadata": {},
   "outputs": [],
   "source": [
    "# Compute pvalue of random combination of SNPs\n",
    "def RndPvalue(bfilePrefix, numSNPs, numInteraction, numRepeat):\n",
    "    \n",
    "    # Read Plink bfile into pandas dataframe\n",
    "    bdf = BDF(bfilePrefix)\n",
    "    varId = bdf.columns.values[0:-2]\n",
    "\n",
    "    # compute pvalue for the top interactions\n",
    "    result = list()\n",
    "    for i in range(numInteraction):\n",
    "        firstCol = 0\n",
    "        np.random.shuffle(varId)\n",
    "        SNPs = list(varId[0:numSNPs])\n",
    "        print(firstCol)\n",
    "        print(SNPs)\n",
    "        (stat,pvalue) = Pvalue(bdf, SNPs, numRepeat)\n",
    "        print('Statistics:', stat)\n",
    "        print('Pvalues:', pvalue)\n",
    "        print(\"===================================\")\n",
    "        result.append({'firstCol':firstCol, 'SNPs':SNPs, 'stat':stat, 'pvalue':pvalue})\n",
    "        \n",
    "    return result"
   ]
  },
  {
   "cell_type": "code",
   "execution_count": 16,
   "metadata": {},
   "outputs": [
    {
     "name": "stderr",
     "output_type": "stream",
     "text": [
      "Mapping files: 100%|██████████| 3/3 [00:00<00:00, 141.78it/s]"
     ]
    },
    {
     "name": "stdout",
     "output_type": "stream",
     "text": [
      "0\n",
      "['N94', 'N92', 'N33', 'N85']\n"
     ]
    },
    {
     "name": "stderr",
     "output_type": "stream",
     "text": [
      "\n"
     ]
    },
    {
     "name": "stdout",
     "output_type": "stream",
     "text": [
      "Statistics: {'beta': 0.5134426827849664, 'alpha': 0.007415187996812067}\n",
      "Pvalues: {'beta': 0.58, 'alpha': 0.34}\n",
      "===================================\n",
      "0\n",
      "['N71', 'N58', 'N33', 'N50']\n",
      "Statistics: {'beta': 0.5178785369847997, 'alpha': 0.010902237668964476}\n",
      "Pvalues: {'beta': 0.25, 'alpha': 0.06}\n",
      "===================================\n",
      "0\n",
      "['N22', 'N86', 'N67', 'N51']\n",
      "Statistics: {'beta': 0.5103643739208267, 'alpha': 0.005821644880766197}\n",
      "Pvalues: {'beta': 0.97, 'alpha': 0.74}\n",
      "===================================\n",
      "0\n",
      "['N9', 'N5', 'N37', 'N24']\n",
      "Statistics: {'beta': 0.5146649767527692, 'alpha': 0.007881717332883342}\n",
      "Pvalues: {'beta': 0.44, 'alpha': 0.27}\n",
      "===================================\n",
      "0\n",
      "['N18', 'N14', 'N23', 'N58']\n",
      "Statistics: {'beta': 0.5154065656764837, 'alpha': 0.008204245935263699}\n",
      "Pvalues: {'beta': 0.72, 'alpha': 0.75}\n",
      "===================================\n"
     ]
    }
   ],
   "source": [
    "pvals = RndPvalue(prefix, 4, numInteraction, numRepeat=100)"
   ]
  },
  {
   "cell_type": "code",
   "execution_count": 17,
   "metadata": {},
   "outputs": [
    {
     "name": "stderr",
     "output_type": "stream",
     "text": [
      "Mapping files: 100%|██████████| 3/3 [00:00<00:00, 78.63it/s]"
     ]
    },
    {
     "name": "stdout",
     "output_type": "stream",
     "text": [
      "0.023553\n",
      "['N10', 'N43', 'N44', 'N85']\n"
     ]
    },
    {
     "name": "stderr",
     "output_type": "stream",
     "text": [
      "\n"
     ]
    },
    {
     "name": "stdout",
     "output_type": "stream",
     "text": [
      "Statistics: {'beta': 0.5339051524084679, 'alpha': 0.02355252997683932}\n",
      "Pvalues: {'beta': 0.0, 'alpha': 0.0}\n",
      "===================================\n",
      "0.023203\n",
      "['N17', 'N71', 'N77', 'N96']\n",
      "Statistics: {'beta': 0.5358881655191845, 'alpha': 0.02320301247856571}\n",
      "Pvalues: {'beta': 0.0, 'alpha': 0.0}\n",
      "===================================\n",
      "0.023068\n",
      "['N10', 'N21', 'N36', 'N41']\n",
      "Statistics: {'beta': 0.533675989229375, 'alpha': 0.023067800362634783}\n",
      "Pvalues: {'beta': 0.0, 'alpha': 0.0}\n",
      "===================================\n",
      "0.023005\n",
      "['N19', 'N28', 'N44', 'N72']\n",
      "Statistics: {'beta': 0.5307312444641648, 'alpha': 0.023004973025889774}\n",
      "Pvalues: {'beta': 0.001, 'alpha': 0.0}\n",
      "===================================\n",
      "0.02248\n",
      "['N11', 'N43', 'N56', 'N65']\n",
      "Statistics: {'beta': 0.5336167580368831, 'alpha': 0.022479976584007466}\n",
      "Pvalues: {'beta': 0.0, 'alpha': 0.0}\n",
      "===================================\n"
     ]
    }
   ],
   "source": [
    "pvals = EpiPvalue(prefix, prefix+'.Alpha.4.csv', numInteraction, numRepeat=1000)"
   ]
  },
  {
   "cell_type": "code",
   "execution_count": 20,
   "metadata": {},
   "outputs": [
    {
     "data": {
      "text/html": [
       "<div>\n",
       "<style scoped>\n",
       "    .dataframe tbody tr th:only-of-type {\n",
       "        vertical-align: middle;\n",
       "    }\n",
       "\n",
       "    .dataframe tbody tr th {\n",
       "        vertical-align: top;\n",
       "    }\n",
       "\n",
       "    .dataframe thead th {\n",
       "        text-align: right;\n",
       "    }\n",
       "</style>\n",
       "<table border=\"1\" class=\"dataframe\">\n",
       "  <thead>\n",
       "    <tr style=\"text-align: right;\">\n",
       "      <th></th>\n",
       "      <th>firstCol</th>\n",
       "      <th>SNPs</th>\n",
       "      <th>stat</th>\n",
       "      <th>pvalue</th>\n",
       "    </tr>\n",
       "  </thead>\n",
       "  <tbody>\n",
       "    <tr>\n",
       "      <th>0</th>\n",
       "      <td>0.023553</td>\n",
       "      <td>[N10, N43, N44, N85]</td>\n",
       "      <td>{'beta': 0.5339051524084679, 'alpha': 0.023552...</td>\n",
       "      <td>{'beta': 0.0, 'alpha': 0.0}</td>\n",
       "    </tr>\n",
       "    <tr>\n",
       "      <th>1</th>\n",
       "      <td>0.023203</td>\n",
       "      <td>[N17, N71, N77, N96]</td>\n",
       "      <td>{'beta': 0.5358881655191845, 'alpha': 0.023203...</td>\n",
       "      <td>{'beta': 0.0, 'alpha': 0.0}</td>\n",
       "    </tr>\n",
       "    <tr>\n",
       "      <th>2</th>\n",
       "      <td>0.023068</td>\n",
       "      <td>[N10, N21, N36, N41]</td>\n",
       "      <td>{'beta': 0.533675989229375, 'alpha': 0.0230678...</td>\n",
       "      <td>{'beta': 0.0, 'alpha': 0.0}</td>\n",
       "    </tr>\n",
       "    <tr>\n",
       "      <th>3</th>\n",
       "      <td>0.023005</td>\n",
       "      <td>[N19, N28, N44, N72]</td>\n",
       "      <td>{'beta': 0.5307312444641648, 'alpha': 0.023004...</td>\n",
       "      <td>{'beta': 0.001, 'alpha': 0.0}</td>\n",
       "    </tr>\n",
       "    <tr>\n",
       "      <th>4</th>\n",
       "      <td>0.022480</td>\n",
       "      <td>[N11, N43, N56, N65]</td>\n",
       "      <td>{'beta': 0.5336167580368831, 'alpha': 0.022479...</td>\n",
       "      <td>{'beta': 0.0, 'alpha': 0.0}</td>\n",
       "    </tr>\n",
       "  </tbody>\n",
       "</table>\n",
       "</div>"
      ],
      "text/plain": [
       "   firstCol                  SNPs  \\\n",
       "0  0.023553  [N10, N43, N44, N85]   \n",
       "1  0.023203  [N17, N71, N77, N96]   \n",
       "2  0.023068  [N10, N21, N36, N41]   \n",
       "3  0.023005  [N19, N28, N44, N72]   \n",
       "4  0.022480  [N11, N43, N56, N65]   \n",
       "\n",
       "                                                stat  \\\n",
       "0  {'beta': 0.5339051524084679, 'alpha': 0.023552...   \n",
       "1  {'beta': 0.5358881655191845, 'alpha': 0.023203...   \n",
       "2  {'beta': 0.533675989229375, 'alpha': 0.0230678...   \n",
       "3  {'beta': 0.5307312444641648, 'alpha': 0.023004...   \n",
       "4  {'beta': 0.5336167580368831, 'alpha': 0.022479...   \n",
       "\n",
       "                          pvalue  \n",
       "0    {'beta': 0.0, 'alpha': 0.0}  \n",
       "1    {'beta': 0.0, 'alpha': 0.0}  \n",
       "2    {'beta': 0.0, 'alpha': 0.0}  \n",
       "3  {'beta': 0.001, 'alpha': 0.0}  \n",
       "4    {'beta': 0.0, 'alpha': 0.0}  "
      ]
     },
     "execution_count": 20,
     "metadata": {},
     "output_type": "execute_result"
    }
   ],
   "source": [
    "pd.DataFrame(pvals)"
   ]
  },
  {
   "cell_type": "code",
   "execution_count": 33,
   "metadata": {},
   "outputs": [],
   "source": [
    "pd.DataFrame(list(map(lambda x: {'firstCol':x['firstCol'], 'SNPs':x['SNPs'], \\\n",
    "                                 'beta':x['stat']['beta'], 'alpha':x['stat']['alpha'], \\\n",
    "                                 'pval-beta':x['pvalue']['beta'], 'pval-alpha':x['pvalue']['alpha'],},\\\n",
    "                      pvals))).to_csv('xxx.tsv', sep='\\t', index=None)"
   ]
  },
  {
   "cell_type": "code",
   "execution_count": 34,
   "metadata": {},
   "outputs": [
    {
     "name": "stdout",
     "output_type": "stream",
     "text": [
      "firstCol  SNPs     beta    alpha   pval-beta  pval-alpha\n",
      "0.023553  ['N10',  'N43',  'N44',  'N85']     0.5339051524084679  0.02355252997683932   0.0    0.0\n",
      "0.023203  ['N17',  'N71',  'N77',  'N96']     0.5358881655191845  0.02320301247856571   0.0    0.0\n",
      "0.023068  ['N10',  'N21',  'N36',  'N41']     0.533675989229375   0.023067800362634783  0.0    0.0\n",
      "0.023005  ['N19',  'N28',  'N44',  'N72']     0.5307312444641648  0.023004973025889774  0.001  0.0\n",
      "0.02248   ['N11',  'N43',  'N56',  'N65']     0.5336167580368831  0.022479976584007466  0.0    0.0\n"
     ]
    }
   ],
   "source": [
    "%%sh\n",
    "column -t xxx.tsv"
   ]
  },
  {
   "cell_type": "code",
   "execution_count": null,
   "metadata": {},
   "outputs": [],
   "source": []
  }
 ],
 "metadata": {
  "kernelspec": {
   "display_name": "Python 3",
   "language": "python",
   "name": "python3"
  },
  "language_info": {
   "codemirror_mode": {
    "name": "ipython",
    "version": 3
   },
   "file_extension": ".py",
   "mimetype": "text/x-python",
   "name": "python",
   "nbconvert_exporter": "python",
   "pygments_lexer": "ipython3",
   "version": "3.6.9"
  }
 },
 "nbformat": 4,
 "nbformat_minor": 4
}
